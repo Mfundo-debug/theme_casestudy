{
 "cells": [
  {
   "cell_type": "markdown",
   "metadata": {},
   "source": [
    "### Light Theme and Dark Theme: Case Study\n",
    "\n",
    "An online bookstore is looking to optimize its website design to improve user engagement and ultimately increase book purchases. The website currently offers two themes for its users: “Light Theme” and “Dark Theme.” The bookstore’s data science team wants to conduct an A/B testing experiment to determine which theme leads to better user engagement and higher conversion rates for book purchases.\n",
    "\n",
    "The data collected by the bookstore contains user interactions and engagement metrics for both the Light Theme and Dark Theme. The dataset includes the following key features:\n",
    "\n",
    "* Theme: dark or light\n",
    "* Click Through Rate: The proportion of the users who click on links or buttons on the website.\n",
    "* Conversion Rate: The percentage of users who signed up on the platform after visiting for the first time.\n",
    "* Bounce Rate: The percentage of users who leave the website without further interaction after visiting a single page.\n",
    "* Scroll Depth: The depth to which users scroll through the website pages.\n",
    "* Age: The age of the user.\n",
    "* Location: The location of the user.\n",
    "* Session Duration: The duration of the user’s session on the website.\n",
    "* Purchases: Whether the user purchased the book (Yes/No).\n",
    "* Added_to_Cart: Whether the user added books to the cart (Yes/No).\n",
    "\n",
    "\n",
    "- [x] Your task is to identify which theme, Light Theme or Dark Theme, yields better user engagement, purchases and conversion rates. You need to determine if there is a statistically significant difference in the key metrics between the two themes.\n",
    "\n",
    "- [x] link to the [dataset](https://statso.io/light-theme-and-dark-theme-case-study/?fbclid=PAAaZaYdKSwTzTqtvWIuKxewxMK32qAqVQFrM58Q8J2f4qoUgfliwhGoosroM)"
   ]
  },
  {
   "cell_type": "code",
   "execution_count": 2,
   "metadata": {},
   "outputs": [],
   "source": [
    "import numpy as np\n",
    "import pandas as pd\n",
    "import matplotlib.pyplot as plt\n",
    "import seaborn as sns\n",
    "import os\n",
    "import warnings\n",
    "\n",
    "warnings.filterwarnings(\"ignore\")"
   ]
  },
  {
   "cell_type": "markdown",
   "metadata": {},
   "source": [
    "### Approach\n",
    "\n",
    "1. Define the metrics that you want to compare between the two themes. For example, you might want to compare the number of page views, the number of clicks on the \"Buy\" button, and the conversion rate (i.e. the percentage of users who make a purchase).\n",
    "\n",
    "2. Collect the data for each metric for both the Light Theme and Dark Theme. You can use tools like Google Analytics or Mixpanel to collect this data.\n",
    "\n",
    "3. Perform a hypothesis test to determine if there is a statistically significant difference between the two themes for each metric. You can use a t-test or ANOVA test for this.\n",
    "\n",
    "4. Analyze the results of the hypothesis test to determine which theme yields better user engagement, purchases, and conversion rates.\n",
    "\n",
    "5. Present your findings in a clear and concise manner, including any visualizations that help to illustrate your results."
   ]
  },
  {
   "cell_type": "code",
   "execution_count": 3,
   "metadata": {},
   "outputs": [
    {
     "data": {
      "text/html": [
       "<div>\n",
       "<style scoped>\n",
       "    .dataframe tbody tr th:only-of-type {\n",
       "        vertical-align: middle;\n",
       "    }\n",
       "\n",
       "    .dataframe tbody tr th {\n",
       "        vertical-align: top;\n",
       "    }\n",
       "\n",
       "    .dataframe thead th {\n",
       "        text-align: right;\n",
       "    }\n",
       "</style>\n",
       "<table border=\"1\" class=\"dataframe\">\n",
       "  <thead>\n",
       "    <tr style=\"text-align: right;\">\n",
       "      <th></th>\n",
       "      <th>Theme</th>\n",
       "      <th>Click Through Rate</th>\n",
       "      <th>Conversion Rate</th>\n",
       "      <th>Bounce Rate</th>\n",
       "      <th>Scroll_Depth</th>\n",
       "      <th>Age</th>\n",
       "      <th>Location</th>\n",
       "      <th>Session_Duration</th>\n",
       "      <th>Purchases</th>\n",
       "      <th>Added_to_Cart</th>\n",
       "    </tr>\n",
       "  </thead>\n",
       "  <tbody>\n",
       "    <tr>\n",
       "      <th>0</th>\n",
       "      <td>Light Theme</td>\n",
       "      <td>0.054920</td>\n",
       "      <td>0.282367</td>\n",
       "      <td>0.405085</td>\n",
       "      <td>72.489458</td>\n",
       "      <td>25</td>\n",
       "      <td>Chennai</td>\n",
       "      <td>1535</td>\n",
       "      <td>No</td>\n",
       "      <td>Yes</td>\n",
       "    </tr>\n",
       "    <tr>\n",
       "      <th>1</th>\n",
       "      <td>Light Theme</td>\n",
       "      <td>0.113932</td>\n",
       "      <td>0.032973</td>\n",
       "      <td>0.732759</td>\n",
       "      <td>61.858568</td>\n",
       "      <td>19</td>\n",
       "      <td>Pune</td>\n",
       "      <td>303</td>\n",
       "      <td>No</td>\n",
       "      <td>Yes</td>\n",
       "    </tr>\n",
       "    <tr>\n",
       "      <th>2</th>\n",
       "      <td>Dark Theme</td>\n",
       "      <td>0.323352</td>\n",
       "      <td>0.178763</td>\n",
       "      <td>0.296543</td>\n",
       "      <td>45.737376</td>\n",
       "      <td>47</td>\n",
       "      <td>Chennai</td>\n",
       "      <td>563</td>\n",
       "      <td>Yes</td>\n",
       "      <td>Yes</td>\n",
       "    </tr>\n",
       "    <tr>\n",
       "      <th>3</th>\n",
       "      <td>Light Theme</td>\n",
       "      <td>0.485836</td>\n",
       "      <td>0.325225</td>\n",
       "      <td>0.245001</td>\n",
       "      <td>76.305298</td>\n",
       "      <td>58</td>\n",
       "      <td>Pune</td>\n",
       "      <td>385</td>\n",
       "      <td>Yes</td>\n",
       "      <td>No</td>\n",
       "    </tr>\n",
       "    <tr>\n",
       "      <th>4</th>\n",
       "      <td>Light Theme</td>\n",
       "      <td>0.034783</td>\n",
       "      <td>0.196766</td>\n",
       "      <td>0.765100</td>\n",
       "      <td>48.927407</td>\n",
       "      <td>25</td>\n",
       "      <td>New Delhi</td>\n",
       "      <td>1437</td>\n",
       "      <td>No</td>\n",
       "      <td>No</td>\n",
       "    </tr>\n",
       "  </tbody>\n",
       "</table>\n",
       "</div>"
      ],
      "text/plain": [
       "         Theme  Click Through Rate  Conversion Rate  Bounce Rate  \\\n",
       "0  Light Theme            0.054920         0.282367     0.405085   \n",
       "1  Light Theme            0.113932         0.032973     0.732759   \n",
       "2   Dark Theme            0.323352         0.178763     0.296543   \n",
       "3  Light Theme            0.485836         0.325225     0.245001   \n",
       "4  Light Theme            0.034783         0.196766     0.765100   \n",
       "\n",
       "   Scroll_Depth  Age   Location  Session_Duration Purchases Added_to_Cart  \n",
       "0     72.489458   25    Chennai              1535        No           Yes  \n",
       "1     61.858568   19       Pune               303        No           Yes  \n",
       "2     45.737376   47    Chennai               563       Yes           Yes  \n",
       "3     76.305298   58       Pune               385       Yes            No  \n",
       "4     48.927407   25  New Delhi              1437        No            No  "
      ]
     },
     "execution_count": 3,
     "metadata": {},
     "output_type": "execute_result"
    }
   ],
   "source": [
    "#read the dataset\n",
    "data = pd.read_csv('website_ab_test.csv')\n",
    "data.head()"
   ]
  },
  {
   "cell_type": "code",
   "execution_count": 4,
   "metadata": {},
   "outputs": [
    {
     "data": {
      "text/plain": [
       "Theme                 0\n",
       "Click Through Rate    0\n",
       "Conversion Rate       0\n",
       "Bounce Rate           0\n",
       "Scroll_Depth          0\n",
       "Age                   0\n",
       "Location              0\n",
       "Session_Duration      0\n",
       "Purchases             0\n",
       "Added_to_Cart         0\n",
       "dtype: int64"
      ]
     },
     "execution_count": 4,
     "metadata": {},
     "output_type": "execute_result"
    }
   ],
   "source": [
    "data.isnull().sum()\n"
   ]
  },
  {
   "cell_type": "markdown",
   "metadata": {},
   "source": [
    "* [x] no missing values, we will assume the data is already pre-processed"
   ]
  },
  {
   "cell_type": "markdown",
   "metadata": {},
   "source": [
    "### 1. Define metrics\n",
    "\n",
    "* compare between two themes `Light` and `Dark` theme\n",
    "* `Click Through Rate (CTR)`: The percentage of usets who click on a link or button\n",
    "* `Conversion Rate (CR)`: The percentage of users who make a purchase.\n",
    "* `Bouce Rate (BR)`: The percentage of users who leave the website after viewing only one page\n",
    "* ` Session Duration (SD)`: The duration of the user's session on the website"
   ]
  },
  {
   "cell_type": "code",
   "execution_count": 6,
   "metadata": {},
   "outputs": [
    {
     "data": {
      "image/png": "[encoded data removed]",
      "text/plain": [
       "<Figure size 432x288 with 1 Axes>"
      ]
     },
     "metadata": {
      "needs_background": "light"
     },
     "output_type": "display_data"
    }
   ],
   "source": [
    "#Calculate the CTR for each theme\n",
    "from turtle import color\n",
    "\n",
    "\n",
    "light_theme_ctr = data[data['Theme'] == 'Light Theme']['Click Through Rate'].mean()\n",
    "dark_theme_ctr = data[data['Theme'] == 'Dark Theme']['Click Through Rate'].mean()\n",
    "\n",
    "#plot the CTR for each theme\n",
    "plt.bar(['Light Theme', 'Dark Theme'], [light_theme_ctr, dark_theme_ctr], color= ['r','g'])\n",
    "plt.title('Click Through Rate by Theme')\n",
    "plt.xlabel('Theme')\n",
    "plt.ylabel('Click Through Rate')\n",
    "plt.show()"
   ]
  },
  {
   "cell_type": "code",
   "execution_count": 7,
   "metadata": {},
   "outputs": [
    {
     "name": "stdout",
     "output_type": "stream",
     "text": [
      "Light Theme CR: 0.25545931706801417\n",
      "Dark Theme CR: 0.25128197366022825\n"
     ]
    }
   ],
   "source": [
    "# Calculate the CR for each theme\n",
    "light_theme_cr = data[data['Theme']=='Light Theme']['Conversion Rate'].mean()\n",
    "dark_theme_cr = data[data['Theme']=='Dark Theme']['Conversion Rate'].mean()\n",
    "\n",
    "print('Light Theme CR:', light_theme_cr)\n",
    "print('Dark Theme CR:', dark_theme_cr)"
   ]
  },
  {
   "cell_type": "code",
   "execution_count": 9,
   "metadata": {},
   "outputs": [
    {
     "data": {
      "image/png": "[encoded data removed]",
      "text/plain": [
       "<Figure size 432x288 with 1 Axes>"
      ]
     },
     "metadata": {
      "needs_background": "light"
     },
     "output_type": "display_data"
    }
   ],
   "source": [
    "#calculate the Bouce Rate for each theme\n",
    "light_theme_br = data[data['Theme'] == 'Light Theme']['Bounce Rate'].mean()\n",
    "dark_theme_br = data[data['Theme'] == 'Dark Theme']['Bounce Rate'].mean()\n",
    "\n",
    "plt.bar(['Light Theme','Dark Theme'],[light_theme_br,dark_theme_br], color=['b', 'purple'])\n",
    "plt.title('Average Bounce Rate by Theme')\n",
    "plt.xlabel('Theme')\n",
    "plt.ylabel('Bounce Rate')\n",
    "plt.show()"
   ]
  },
  {
   "cell_type": "code",
   "execution_count": 11,
   "metadata": {},
   "outputs": [
    {
     "data": {
      "image/png": "[encoded data removed]",
      "text/plain": [
       "<Figure size 432x288 with 1 Axes>"
      ]
     },
     "metadata": {
      "needs_background": "light"
     },
     "output_type": "display_data"
    }
   ],
   "source": [
    "#Calculate the Session Duration for each theme\n",
    "light_theme_sd = data[data['Theme']=='Light Them']['Session_Duration'].mean()\n",
    "dark_theme_sd = data[data['Theme']=='Dark Them']['Session_Duration'].mean()\n",
    "\n",
    "plt.bar(['Light Theme','Dark Theme'],[light_theme_sd,dark_theme_sd], color=['orange', 'green'])\n",
    "plt.title('Session Duration by Theme')\n",
    "plt.xlabel('Theme')\n",
    "plt.ylabel('Session Duration')\n",
    "plt.show()"
   ]
  },
  {
   "cell_type": "markdown",
   "metadata": {},
   "source": [
    "### 3. Hypothesis testing\n",
    "\n",
    "* determine if there is a statistically significant between two themes for each metric.\n",
    "\n",
    "1. Define the null hypothesis (H0) and alternative hypothesis (H1) for each metric. For example, for the Click Through Rate metric, the null hypothesis might be that there is no difference in CTR between the Light Theme and Dark Theme, while the alternative hypothesis might be that there is a difference in CTR between the two themes.\n",
    "\n",
    "2. Choose a significance level (alpha) for the test. The most common value for alpha is 0.05, which means that you are willing to accept a 5% chance of making a Type I error (i.e. rejecting the null hypothesis when it is actually true).\n",
    "\n",
    "3. Choose an appropriate statistical test for each metric. For example, you can use a t-test or ANOVA test to compare the means of two or more groups.\n",
    "\n",
    "4. Calculate the test statistic and p-value for each test.\n",
    "\n",
    "5. Compare the p-value to the significance level (alpha) to determine if the results are statistically significant. If the p-value is less than alpha, then you can reject the null hypothesis and conclude that there is a statistically significant difference between the two themes for that metric.\n",
    "\n",
    "6. Repeat steps 3-5 for each metric.\n"
   ]
  },
  {
   "cell_type": "markdown",
   "metadata": {},
   "source": [
    "H0: (u_1 = u_2) - > Theres is no difference in CTR between the light theme and dark theme\n",
    "\n",
    "H1: (u_1 != u_2) - > There is a difference in CTR between light and dark theme"
   ]
  },
  {
   "cell_type": "code",
   "execution_count": 19,
   "metadata": {},
   "outputs": [
    {
     "name": "stdout",
     "output_type": "stream",
     "text": [
      "t-statistic: -1.977\n",
      "p-value: 0.048\n"
     ]
    },
    {
     "data": {
      "image/png": "[encoded data removed]",
      "text/plain": [
       "<Figure size 432x288 with 1 Axes>"
      ]
     },
     "metadata": {},
     "output_type": "display_data"
    }
   ],
   "source": [
    "# Perform a t-test to compare two themes\n",
    "from scipy.stats import ttest_ind\n",
    "#calculate the mean CTR for each theme\n",
    "light_theme_ctrr = data[data['Theme']=='Light Theme']['Click Through Rate']\n",
    "dark_theme_ctrr = data[data['Theme']=='Dark Theme']['Click Through Rate']\n",
    "# Calculate the t-statistic and p-value\n",
    "t_stat, p_val = ttest_ind(light_theme_ctrr, dark_theme_ctrr)\n",
    "print('t-statistic: {:.3f}'.format(t_stat)\n",
    "      + '\\np-value: {:.3f}'.format(p_val))\n",
    "\n",
    "plt.hist(light_theme_ctrr, alpha=0.5, label='Light Theme')\n",
    "plt.hist(dark_theme_ctrr, alpha=0.5, label='Dark Theme')\n",
    "plt.legend()\n",
    "plt.show()"
   ]
  },
  {
   "cell_type": "markdown",
   "metadata": {},
   "source": [
    "#### Intepretation\n",
    "\n",
    "* Based on the t-test results above\n",
    "* t-statistic is `-1.977` and the p_value is `0.048`.\n",
    "* Since the `p-value` is less than the significance level of `0.05`.\n",
    "* `REJECT` the null hypothesis and conclude that\n",
    "* there is a statistically significant difference in Click Through Rate between the Light Theme and Dark Theme"
   ]
  },
  {
   "cell_type": "markdown",
   "metadata": {},
   "source": [
    "H0: There is no difference in CR between two themes\n",
    "\n",
    "H1: There is a difference in CR between two themes"
   ]
  },
  {
   "cell_type": "code",
   "execution_count": 15,
   "metadata": {},
   "outputs": [
    {
     "name": "stdout",
     "output_type": "stream",
     "text": [
      "t-statistic: 0.474\n",
      "p-value: 0.635\n"
     ]
    },
    {
     "data": {
      "image/png": "[encoded data removed]",
      "text/plain": [
       "<Figure size 432x288 with 1 Axes>"
      ]
     },
     "metadata": {
      "needs_background": "light"
     },
     "output_type": "display_data"
    }
   ],
   "source": [
    "\n",
    "light_theme_crr = data[data['Theme']=='Light Theme']['Conversion Rate']\n",
    "dark_theme_crr = data[data['Theme']=='Dark Theme']['Conversion Rate']\n",
    "#calculate the t-statistic and p-value\n",
    "\n",
    "t_statistic, p_value = ttest_ind(light_theme_crr, dark_theme_crr)\n",
    "print('t-statistic: {:.3f}\\np-value: {:.3f}'.format(t_statistic, p_value))\n",
    "\n",
    "#plot the histogram\n",
    "plt.hist(light_theme_crr, alpha=0.5, label='Light Theme')\n",
    "plt.hist(dark_theme_crr, alpha=0.5, label='Dark Theme')\n",
    "plt.legend()\n",
    "plt.show()\n"
   ]
  },
  {
   "cell_type": "markdown",
   "metadata": {},
   "source": [
    "#### Interpretation\n",
    "* Based on t-test results above\n",
    "* `t-statistic: 0.474` and `p-value:0.635`\n",
    "* Since `p-value` > than `alpha=0.05`\n",
    "* we `fail to reject` the null hypothesis\n",
    "* conclude that, there is no statistically difference in `Coversion Rate` between two themes"
   ]
  },
  {
   "cell_type": "markdown",
   "metadata": {},
   "source": [
    "H0: No significance in `Bounce Rate` between two themes\n",
    "\n",
    "H1: Significance in `Bounce Rate` between two themes"
   ]
  },
  {
   "cell_type": "code",
   "execution_count": 18,
   "metadata": {},
   "outputs": [
    {
     "name": "stdout",
     "output_type": "stream",
     "text": [
      "t-statistic: -1.201\n",
      "p-value: 0.230\n"
     ]
    },
    {
     "data": {
      "image/png": "[encoded data removed]",
      "text/plain": [
       "<Figure size 864x432 with 1 Axes>"
      ]
     },
     "metadata": {},
     "output_type": "display_data"
    }
   ],
   "source": [
    "light_theme_brr = data[data['Theme']=='Light Theme']['Bounce Rate']\n",
    "dark_theme_brr = data[data['Theme']=='Dark Theme']['Bounce Rate']\n",
    "\n",
    "#calculate the t-stats and p-value\n",
    "t_stat, p_value = ttest_ind(light_theme_brr, dark_theme_brr)\n",
    "print('t-statistic: {:.3f}\\np-value: {:.3f}'.format(t_stat, p_value))\n",
    "\n",
    "#plot the histograms\n",
    "plt.figure(figsize=(12,6))\n",
    "sns.set_style('whitegrid')\n",
    "plt.subplot(121)\n",
    "plt.hist(light_theme_brr, alpha=0.5, label='Light Theme')\n",
    "plt.hist(dark_theme_brr, alpha=0.5, label='Dark Theme')\n",
    "plt.title('Bounce Rate by Theme')\n",
    "plt.xlabel('Bounce Rate')\n",
    "plt.ylabel('Frequency')\n",
    "plt.legend();"
   ]
  },
  {
   "cell_type": "markdown",
   "metadata": {},
   "source": [
    "### Interpretation\n",
    "\n",
    "* Based on the t-tests aboce\n",
    "* `t-statistic: -1.201` and `p-value: 0.230`\n",
    "*  Since `p-value` > `alpha=0.05`\n",
    "* `fail to reject` the H0 and conclude that,\n",
    "* there is no significant difference in `Bounce Rate` between two themes"
   ]
  },
  {
   "cell_type": "code",
   "execution_count": 21,
   "metadata": {},
   "outputs": [
    {
     "name": "stdout",
     "output_type": "stream",
     "text": [
      "Metric:  Click Through Rate\n",
      "Light Theme vs Dark Theme\n",
      "Mean: Light Theme : 0.24710871082680833\n",
      "Mean: Dark Theme : 0.2645008624648531\n",
      "Standard Deviation: Light Theme : 0.13701534155107406\n",
      "Standard Deviation: Dark Theme : 0.14070479524015167\n",
      "T-statistic: -1.9786798510981485\n",
      "P-value: 1.9032993771883502\n",
      "Effect Size (Cohen's d): -0.12519178659791355\n",
      "\n",
      "Metric:  Conversion Rate\n",
      "Light Theme vs Dark Theme\n",
      "Mean: Light Theme : 0.25545931706801417\n",
      "Mean: Dark Theme : 0.25128197366022825\n",
      "Standard Deviation: Light Theme : 0.1370754218532656\n",
      "Standard Deviation: Dark Theme : 0.14080826283305123\n",
      "T-statistic: 0.4749676746116689\n",
      "P-value: 0.7294953691225365\n",
      "Effect Size (Cohen's d): 0.03005137578365212\n",
      "\n",
      "Metric:  Bounce Rate\n",
      "Light Theme vs Dark Theme\n",
      "Mean: Light Theme : 0.4990347635354322\n",
      "Mean: Dark Theme : 0.5121146388541841\n",
      "Standard Deviation: Light Theme : 0.16915668219087443\n",
      "Standard Deviation: Dark Theme : 0.1746169453683328\n",
      "T-statistic: -1.2020224115394031\n",
      "P-value: 1.5397887499420189\n",
      "Effect Size (Cohen's d): -0.07605239076338374\n",
      "\n"
     ]
    }
   ],
   "source": [
    "from math import sqrt\n",
    "from numpy import mean\n",
    "from py import std\n",
    "from scipy.stats import ttest_ind\n",
    "\n",
    "\n",
    "metrics = ['Click Through Rate','Conversion Rate', 'Bounce Rate']\n",
    "themes = ['Light Theme', 'Dark Theme']\n",
    "#loop through each metric\n",
    "for metric in metrics:\n",
    "    print('Metric: ', metric)\n",
    "\n",
    "    #loop through each theme\n",
    "    for i in range(len(themes)):\n",
    "        for j in range(i+1, len(themes)):\n",
    "            theme1 = themes[i]\n",
    "            theme2 = themes[j]\n",
    "\n",
    "            #calculate the mean and standard deviation  for each theme\n",
    "            mean1 = mean(data[data['Theme'] == theme1][metric])\n",
    "            mean2 = mean(data[data['Theme'] == theme2][metric])\n",
    "            std1 = np.std(data[data['Theme'] == theme1][metric])\n",
    "            std2 = np.std(data[data['Theme'] == theme2][metric])\n",
    "\n",
    "            #calculate the t-statistic and pvalue for the two groupd\n",
    "            n1 = len(data[data['Theme'] == theme1][metric])\n",
    "            n2 = len(data[data['Theme'] == theme2][metric])\n",
    "            dof = n1 + n2 - 2\n",
    "            pooled_std = sqrt(((n1-1)*(std1**2) + (n2-1)*(std2**2))/dof)\n",
    "            t_stat =(mean1-mean2)/ (pooled_std * sqrt(1/n1 + 1/n2))\n",
    "            p_val = 2 * (1 - ttest_ind(data[data['Theme'] == theme1][metric], data[data['Theme'] == theme2][metric]).pvalue)\n",
    "\n",
    "            #calculate the effect size (Cohen's d)\n",
    "            effect_size = (mean1-mean2)/ pooled_std\n",
    "            #print the results for the two groups\n",
    "            print(theme1, 'vs', theme2)\n",
    "            print('Mean:', theme1, ':', mean1)\n",
    "            print('Mean:', theme2, ':', mean2)\n",
    "            print('Standard Deviation:', theme1, ':', std1)\n",
    "            print('Standard Deviation:', theme2, ':', std2)\n",
    "            print('T-statistic:', t_stat)\n",
    "            print('P-value:', p_val)\n",
    "            print('Effect Size (Cohen\\'s d):', effect_size)\n",
    "            print()"
   ]
  },
  {
   "cell_type": "code",
   "execution_count": null,
   "metadata": {},
   "outputs": [],
   "source": []
  }
 ],
 "metadata": {
  "kernelspec": {
   "display_name": "Python 3",
   "language": "python",
   "name": "python3"
  },
  "language_info": {
   "codemirror_mode": {
    "name": "ipython",
    "version": 3
   },
   "file_extension": ".py",
   "mimetype": "text/x-python",
   "name": "python",
   "nbconvert_exporter": "python",
   "pygments_lexer": "ipython3",
   "version": "3.10.11"
  },
  "orig_nbformat": 4
 },
 "nbformat": 4,
 "nbformat_minor": 2
}
